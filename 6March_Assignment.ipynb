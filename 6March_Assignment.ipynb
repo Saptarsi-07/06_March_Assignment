{
 "cells": [
  {
   "cell_type": "code",
   "execution_count": 1,
   "id": "f6db853f-65cb-4ab5-ba7f-24da62d95365",
   "metadata": {},
   "outputs": [],
   "source": [
    "## Q1) Statistics is the study of anaalyzing data and drawing conclusions out of it. "
   ]
  },
  {
   "cell_type": "code",
   "execution_count": null,
   "id": "8d56c196-644b-4ce9-a827-8a4e98a580f3",
   "metadata": {},
   "outputs": [],
   "source": [
    "## Q2)Two types of statistics are: i)Descriptive(Summarize and Organize data)\n",
    "#                                  ii)Inferential(Use the data collected to make conclusions)"
   ]
  },
  {
   "cell_type": "code",
   "execution_count": 2,
   "id": "70b1f64d-33a8-427e-8a16-70796a4d50ff",
   "metadata": {},
   "outputs": [],
   "source": [
    "## Q3) Data can broadly divided into two types: a)Quantitive and b)Qualitative.\n",
    "#      Quantitive data can be further divided into i)Discrete(eg: Number of kids/bank accounts) ii)Continuous(eg: height,weight)\n",
    "#      Qualitative data is divided into i)Nominal(eg: Blood groups,gender) and ii)Ordinal(Customer feedback-Good OK Bad) "
   ]
  },
  {
   "cell_type": "code",
   "execution_count": 3,
   "id": "b968cd43-5084-42ac-8aa5-e91ca71767e9",
   "metadata": {},
   "outputs": [],
   "source": [
    "## Q4)i)Qualitative(Ordinal)\n",
    "#    ii)Qualitative(Nominal)\n",
    "#   iii)Quantitive(Continuous)\n",
    "#    iv)Quantitive(Discrete)"
   ]
  },
  {
   "cell_type": "code",
   "execution_count": 5,
   "id": "1cd92e37-ac0e-40df-893e-88c8df8cd94a",
   "metadata": {},
   "outputs": [],
   "source": [
    "## Q5) Level of measurement shows us how precisely the measurements were taken.\n",
    "#     The 4 levels of measure ment are: i)Nominal(gender,colours)\n",
    "#                                       ii)Ordinal(Education degrees)\n",
    "#                                       iii)Interval(Temperature)\n",
    "#                                        iv)Ratio(Grades)"
   ]
  },
  {
   "cell_type": "code",
   "execution_count": 6,
   "id": "a6cf9d6b-be5d-4e51-804e-711b250b4f32",
   "metadata": {},
   "outputs": [],
   "source": [
    "## Q7)Nominal data have a fixed number of categories and cannot be ranked whereas Ordinal data can be ranked based on some parameter."
   ]
  },
  {
   "cell_type": "code",
   "execution_count": 7,
   "id": "844ee7a0-0b7f-4222-b2a2-a91b50e4a83c",
   "metadata": {},
   "outputs": [],
   "source": [
    "## Q8) Bar graph plot can be used for data in different range"
   ]
  },
  {
   "cell_type": "code",
   "execution_count": 8,
   "id": "58bf3776-b762-4386-8fae-514239de2947",
   "metadata": {},
   "outputs": [],
   "source": [
    "## Q9) Descriptive statistics is used to summarize,organize and analyze the data.We mainly focus on the central tendency and dispersion parameters.\n",
    "#      Inferential statistics is used to get useful insights and conclusion from the data using tst such as z-test,f-test etc."
   ]
  },
  {
   "cell_type": "code",
   "execution_count": 10,
   "id": "b2539146-bff6-40cb-aebe-47685564a25d",
   "metadata": {},
   "outputs": [],
   "source": [
    "## Q10) The measurement of central tendency are: i)Mean: it shows the average of the dataset\n",
    "#                                                ii)Median: it shows the middle-most element of the dataset\n",
    "#                                                iii)Mode: it shows which data has the highest frequency\n",
    "#      The measurement of dispersion can be standard deviation which shows how much data is deviated from mean"
   ]
  },
  {
   "cell_type": "code",
   "execution_count": null,
   "id": "cab22360-a587-414b-951a-2046b4f0889e",
   "metadata": {},
   "outputs": [],
   "source": []
  }
 ],
 "metadata": {
  "kernelspec": {
   "display_name": "Python 3 (ipykernel)",
   "language": "python",
   "name": "python3"
  },
  "language_info": {
   "codemirror_mode": {
    "name": "ipython",
    "version": 3
   },
   "file_extension": ".py",
   "mimetype": "text/x-python",
   "name": "python",
   "nbconvert_exporter": "python",
   "pygments_lexer": "ipython3",
   "version": "3.10.8"
  }
 },
 "nbformat": 4,
 "nbformat_minor": 5
}
